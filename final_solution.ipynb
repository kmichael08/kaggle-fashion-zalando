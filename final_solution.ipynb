{
 "cells": [
  {
   "cell_type": "code",
   "execution_count": 11,
   "metadata": {},
   "outputs": [
    {
     "name": "stdout",
     "output_type": "stream",
     "text": [
      "fatal: destination path 'fashion-mnist' already exists and is not an empty directory.\r\n"
     ]
    }
   ],
   "source": [
    "!git clone https://github.com/zalandoresearch/fashion-mnist.git"
   ]
  },
  {
   "cell_type": "code",
   "execution_count": 12,
   "metadata": {},
   "outputs": [
    {
     "name": "stdout",
     "output_type": "stream",
     "text": [
      "fashion-mnist  fm  main.html  main.ipynb  submission.csv\r\n"
     ]
    }
   ],
   "source": [
    "!ls"
   ]
  },
  {
   "cell_type": "code",
   "execution_count": 13,
   "metadata": {},
   "outputs": [],
   "source": [
    "def load_mnist(path, kind='train'):\n",
    "    import os\n",
    "    import gzip\n",
    "    import numpy as np\n",
    "\n",
    "    \"\"\"Load MNIST data from `path`\"\"\"\n",
    "    labels_path = os.path.join(path,\n",
    "                               '%s-labels-idx1-ubyte.gz'\n",
    "                               % kind)\n",
    "    images_path = os.path.join(path,\n",
    "                               '%s-images-idx3-ubyte.gz'\n",
    "                               % kind)\n",
    "\n",
    "    with gzip.open(labels_path, 'rb') as lbpath:\n",
    "        labels = np.frombuffer(lbpath.read(), dtype=np.uint8,\n",
    "                               offset=8)\n",
    "\n",
    "    with gzip.open(images_path, 'rb') as imgpath:\n",
    "        images = np.frombuffer(imgpath.read(), dtype=np.uint8,\n",
    "                               offset=16).reshape(len(labels), 784)\n",
    "\n",
    "    return images, labels"
   ]
  },
  {
   "cell_type": "code",
   "execution_count": 14,
   "metadata": {},
   "outputs": [],
   "source": [
    "x_train, y_train = load_mnist('./fashion-mnist/data/fashion', kind='train')\n",
    "x_test, y_test = load_mnist('./fashion-mnist/data/fashion', kind='t10k')"
   ]
  },
  {
   "cell_type": "code",
   "execution_count": 15,
   "metadata": {},
   "outputs": [
    {
     "name": "stdout",
     "output_type": "stream",
     "text": [
      "x_train shape: (60000, 28, 28, 1)\n",
      "60000 train samples\n",
      "10000 test samples\n"
     ]
    }
   ],
   "source": [
    "import keras\n",
    "import numpy as np\n",
    "\n",
    "from keras.models import Sequential\n",
    "from keras.layers import Dense, Dropout, Flatten\n",
    "from keras.layers import Conv2D, MaxPooling2D\n",
    "from keras import backend as K\n",
    "\n",
    "batch_size = 128\n",
    "num_classes = 10\n",
    "epochs = 5\n",
    "\n",
    "# input image dimensions\n",
    "img_rows, img_cols = 28, 28\n",
    "\n",
    "if K.image_data_format() == 'channels_first':\n",
    "    x_train = x_train.reshape(x_train.shape[0], 1, img_rows, img_cols)\n",
    "    x_test = x_test.reshape(x_test.shape[0], 1, img_rows, img_cols)\n",
    "    input_shape = (1, img_rows, img_cols)\n",
    "else:\n",
    "    x_train = x_train.reshape(x_train.shape[0], img_rows, img_cols, 1)\n",
    "    x_test = x_test.reshape(x_test.shape[0], img_rows, img_cols, 1)\n",
    "    input_shape = (img_rows, img_cols, 1)\n",
    "\n",
    "x_train = x_train.astype('float32')\n",
    "x_test = x_test.astype('float32')\n",
    "x_train /= 255\n",
    "x_test /= 255\n",
    "print('x_train shape:', x_train.shape)\n",
    "print(x_train.shape[0], 'train samples')\n",
    "print(x_test.shape[0], 'test samples')\n",
    "\n",
    "# convert class vectors to binary class matrices\n",
    "y_train = keras.utils.to_categorical(y_train, num_classes)\n",
    "y_test = keras.utils.to_categorical(y_test, num_classes)"
   ]
  },
  {
   "cell_type": "code",
   "execution_count": 16,
   "metadata": {},
   "outputs": [
    {
     "data": {
      "image/png": "[encoded data removed]",
      "text/plain": [
       "<matplotlib.figure.Figure at 0x7fdbecd09eb8>"
      ]
     },
     "metadata": {},
     "output_type": "display_data"
    },
    {
     "data": {
      "image/png": "[encoded data removed]",
      "text/plain": [
       "<matplotlib.figure.Figure at 0x7fdbecfa5320>"
      ]
     },
     "metadata": {},
     "output_type": "display_data"
    },
    {
     "data": {
      "image/png": "[encoded data removed]",
      "text/plain": [
       "<matplotlib.figure.Figure at 0x7fdbecf88978>"
      ]
     },
     "metadata": {},
     "output_type": "display_data"
    },
    {
     "data": {
      "image/png": "[encoded data removed]",
      "text/plain": [
       "<matplotlib.figure.Figure at 0x7fdbeca20588>"
      ]
     },
     "metadata": {},
     "output_type": "display_data"
    }
   ],
   "source": [
    "import cv2\n",
    "%matplotlib inline\n",
    "import matplotlib.pyplot as plt\n",
    "\n",
    "def display(i):\n",
    "    plt.imshow(np.reshape(x_train[i], (28, 28)), cmap=plt.get_cmap('gray'))\n",
    "    plt.show()\n",
    "\n",
    "for i in range(4):\n",
    "    display(i)"
   ]
  },
  {
   "cell_type": "code",
   "execution_count": 54,
   "metadata": {},
   "outputs": [],
   "source": [
    "from keras.regularizers import l1\n",
    "from keras.layers import Dropout, GlobalAveragePooling2D\n",
    "\n",
    "model = Sequential()\n",
    "model.add(Conv2D(64, kernel_size=(3, 3),\n",
    "                 activation='relu',\n",
    "                 input_shape=input_shape))\n",
    "model.add(MaxPooling2D(pool_size=(2, 2)))\n",
    "model.add(Conv2D(64, (3, 3), activation='relu'))\n",
    "model.add(MaxPooling2D(pool_size=(2, 2)))\n",
    "model.add(Conv2D(64, (3, 3), activation='relu'))\n",
    "model.add(MaxPooling2D(pool_size=(2, 2)))\n",
    "model.add(GlobalAveragePooling2D())\n",
    "model.add(Dense(num_classes, activation='softmax'))\n",
    "\n",
    "model.compile(loss=keras.losses.categorical_crossentropy,\n",
    "              optimizer=keras.optimizers.Adam(),\n",
    "              metrics=['accuracy'])"
   ]
  },
  {
   "cell_type": "code",
   "execution_count": 55,
   "metadata": {},
   "outputs": [
    {
     "name": "stdout",
     "output_type": "stream",
     "text": [
      "_________________________________________________________________\n",
      "Layer (type)                 Output Shape              Param #   \n",
      "=================================================================\n",
      "conv2d_28 (Conv2D)           (None, 26, 26, 64)        640       \n",
      "_________________________________________________________________\n",
      "max_pooling2d_28 (MaxPooling (None, 13, 13, 64)        0         \n",
      "_________________________________________________________________\n",
      "conv2d_29 (Conv2D)           (None, 11, 11, 64)        36928     \n",
      "_________________________________________________________________\n",
      "max_pooling2d_29 (MaxPooling (None, 5, 5, 64)          0         \n",
      "_________________________________________________________________\n",
      "conv2d_30 (Conv2D)           (None, 3, 3, 64)          36928     \n",
      "_________________________________________________________________\n",
      "max_pooling2d_30 (MaxPooling (None, 1, 1, 64)          0         \n",
      "_________________________________________________________________\n",
      "global_average_pooling2d_5 ( (None, 64)                0         \n",
      "_________________________________________________________________\n",
      "dense_19 (Dense)             (None, 10)                650       \n",
      "=================================================================\n",
      "Total params: 75,146\n",
      "Trainable params: 75,146\n",
      "Non-trainable params: 0\n",
      "_________________________________________________________________\n",
      "None\n"
     ]
    }
   ],
   "source": [
    "print(model.summary())"
   ]
  },
  {
   "cell_type": "code",
   "execution_count": 56,
   "metadata": {},
   "outputs": [],
   "source": [
    "from keras.preprocessing.image import ImageDataGenerator\n",
    "datagen = ImageDataGenerator(\n",
    "rotation_range=10,\n",
    ")"
   ]
  },
  {
   "cell_type": "code",
   "execution_count": 57,
   "metadata": {},
   "outputs": [
    {
     "name": "stdout",
     "output_type": "stream",
     "text": [
      "Epoch 1/40\n",
      "1875/1875 [==============================] - 17s - loss: 0.6058 - acc: 0.7804 - val_loss: 0.4806 - val_acc: 0.8240\n",
      "Epoch 2/40\n",
      "1875/1875 [==============================] - 17s - loss: 0.4326 - acc: 0.8408 - val_loss: 0.4151 - val_acc: 0.8434\n",
      "Epoch 3/40\n",
      "1875/1875 [==============================] - 17s - loss: 0.3821 - acc: 0.8601 - val_loss: 0.3658 - val_acc: 0.8673\n",
      "Epoch 4/40\n",
      "1875/1875 [==============================] - 17s - loss: 0.3522 - acc: 0.8693 - val_loss: 0.3585 - val_acc: 0.8715\n",
      "Epoch 5/40\n",
      "1875/1875 [==============================] - 17s - loss: 0.3317 - acc: 0.8766 - val_loss: 0.3438 - val_acc: 0.8751\n",
      "Epoch 6/40\n",
      "1875/1875 [==============================] - 17s - loss: 0.3147 - acc: 0.8832 - val_loss: 0.3264 - val_acc: 0.8826\n",
      "Epoch 7/40\n",
      "1875/1875 [==============================] - 17s - loss: 0.2980 - acc: 0.8894 - val_loss: 0.3442 - val_acc: 0.8747\n",
      "Epoch 8/40\n",
      "1875/1875 [==============================] - 17s - loss: 0.2869 - acc: 0.8931 - val_loss: 0.3169 - val_acc: 0.8837\n",
      "Epoch 9/40\n",
      "1875/1875 [==============================] - 17s - loss: 0.2782 - acc: 0.8970 - val_loss: 0.3165 - val_acc: 0.8863\n",
      "Epoch 10/40\n",
      "1875/1875 [==============================] - 16s - loss: 0.2698 - acc: 0.9000 - val_loss: 0.3096 - val_acc: 0.8896\n",
      "Epoch 11/40\n",
      "1875/1875 [==============================] - 17s - loss: 0.2651 - acc: 0.9016 - val_loss: 0.3055 - val_acc: 0.8924\n",
      "Epoch 12/40\n",
      "1875/1875 [==============================] - 16s - loss: 0.2547 - acc: 0.9062 - val_loss: 0.3063 - val_acc: 0.8897\n",
      "Epoch 13/40\n",
      "1875/1875 [==============================] - 16s - loss: 0.2507 - acc: 0.9057 - val_loss: 0.3132 - val_acc: 0.8866\n",
      "Epoch 14/40\n",
      "1875/1875 [==============================] - 16s - loss: 0.2459 - acc: 0.9077 - val_loss: 0.2997 - val_acc: 0.8972\n",
      "Epoch 15/40\n",
      "1875/1875 [==============================] - 17s - loss: 0.2414 - acc: 0.9099 - val_loss: 0.3244 - val_acc: 0.8884\n",
      "Epoch 16/40\n",
      "1875/1875 [==============================] - 16s - loss: 0.2373 - acc: 0.9125 - val_loss: 0.3046 - val_acc: 0.8960\n",
      "Epoch 17/40\n",
      "1875/1875 [==============================] - 16s - loss: 0.2299 - acc: 0.9143 - val_loss: 0.3107 - val_acc: 0.8944\n",
      "Epoch 18/40\n",
      "1875/1875 [==============================] - 16s - loss: 0.2266 - acc: 0.9161 - val_loss: 0.3098 - val_acc: 0.8947\n",
      "Epoch 19/40\n",
      "1875/1875 [==============================] - 17s - loss: 0.2241 - acc: 0.9148 - val_loss: 0.2956 - val_acc: 0.8990\n",
      "Epoch 20/40\n",
      "1875/1875 [==============================] - 17s - loss: 0.2222 - acc: 0.9161 - val_loss: 0.3045 - val_acc: 0.8950\n",
      "Epoch 21/40\n",
      "1875/1875 [==============================] - 17s - loss: 0.2169 - acc: 0.9195 - val_loss: 0.3009 - val_acc: 0.8965\n",
      "Epoch 22/40\n",
      "1875/1875 [==============================] - 17s - loss: 0.2165 - acc: 0.9179 - val_loss: 0.3077 - val_acc: 0.8982\n",
      "Epoch 23/40\n",
      "1875/1875 [==============================] - 17s - loss: 0.2117 - acc: 0.9218 - val_loss: 0.3076 - val_acc: 0.8970\n",
      "Epoch 24/40\n",
      "1875/1875 [==============================] - 16s - loss: 0.2103 - acc: 0.9221 - val_loss: 0.3082 - val_acc: 0.8997\n",
      "Epoch 25/40\n",
      "1875/1875 [==============================] - 16s - loss: 0.2070 - acc: 0.9223 - val_loss: 0.3027 - val_acc: 0.8970\n",
      "Epoch 26/40\n",
      "1875/1875 [==============================] - 17s - loss: 0.2050 - acc: 0.9235 - val_loss: 0.3012 - val_acc: 0.8989\n",
      "Epoch 27/40\n",
      "1875/1875 [==============================] - 17s - loss: 0.1997 - acc: 0.9251 - val_loss: 0.3559 - val_acc: 0.8823\n",
      "Epoch 28/40\n",
      "1875/1875 [==============================] - 17s - loss: 0.1971 - acc: 0.9263 - val_loss: 0.3287 - val_acc: 0.8959\n",
      "Epoch 29/40\n",
      "1875/1875 [==============================] - 17s - loss: 0.1953 - acc: 0.9266 - val_loss: 0.3069 - val_acc: 0.8998\n",
      "Epoch 30/40\n",
      "1875/1875 [==============================] - 17s - loss: 0.1914 - acc: 0.9281 - val_loss: 0.3141 - val_acc: 0.8982\n",
      "Epoch 31/40\n",
      "1875/1875 [==============================] - 16s - loss: 0.1909 - acc: 0.9287 - val_loss: 0.3165 - val_acc: 0.8987\n",
      "Epoch 32/40\n",
      "1875/1875 [==============================] - 17s - loss: 0.1874 - acc: 0.9301 - val_loss: 0.3043 - val_acc: 0.9012\n",
      "Epoch 33/40\n",
      "1875/1875 [==============================] - 17s - loss: 0.1867 - acc: 0.9309 - val_loss: 0.3195 - val_acc: 0.8974\n",
      "Epoch 34/40\n",
      "1875/1875 [==============================] - 17s - loss: 0.1862 - acc: 0.9306 - val_loss: 0.3248 - val_acc: 0.8920\n",
      "Epoch 35/40\n",
      "1875/1875 [==============================] - 17s - loss: 0.1846 - acc: 0.9314 - val_loss: 0.3187 - val_acc: 0.9006\n",
      "Epoch 36/40\n",
      "1875/1875 [==============================] - 17s - loss: 0.1800 - acc: 0.9332 - val_loss: 0.3231 - val_acc: 0.8992\n",
      "Epoch 37/40\n",
      "1875/1875 [==============================] - 17s - loss: 0.1823 - acc: 0.9316 - val_loss: 0.3218 - val_acc: 0.8977\n",
      "Epoch 38/40\n",
      "1875/1875 [==============================] - 17s - loss: 0.1768 - acc: 0.9338 - val_loss: 0.3282 - val_acc: 0.8926\n",
      "Epoch 39/40\n",
      "1875/1875 [==============================] - 17s - loss: 0.1781 - acc: 0.9338 - val_loss: 0.3284 - val_acc: 0.8975\n",
      "Epoch 40/40\n",
      "1875/1875 [==============================] - 17s - loss: 0.1764 - acc: 0.9344 - val_loss: 0.3293 - val_acc: 0.8991\n"
     ]
    },
    {
     "data": {
      "text/plain": [
       "<keras.callbacks.History at 0x7fdb9a8e8ef0>"
      ]
     },
     "execution_count": 57,
     "metadata": {},
     "output_type": "execute_result"
    }
   ],
   "source": [
    "model.fit_generator(datagen.flow(x_train, y_train, batch_size=32),\n",
    "          epochs=40,\n",
    "          steps_per_epoch=len(x_train) / 32,\n",
    "          validation_data=(x_test, y_test),\n",
    "          verbose=1)\n",
    "\n",
    "#model.fit(x_train, y_train, validation_data=(x_test, y_test), epochs=40)"
   ]
  },
  {
   "cell_type": "code",
   "execution_count": 58,
   "metadata": {},
   "outputs": [],
   "source": [
    "from keras.regularizers import l2\n",
    "from keras.layers import Dropout, GlobalAveragePooling2D\n",
    "\n",
    "model2 = Sequential()\n",
    "model2.add(Conv2D(64, kernel_size=(3, 3),\n",
    "                 activation='relu',\n",
    "                 input_shape=input_shape))\n",
    "model2.add(MaxPooling2D(pool_size=(2, 2)))\n",
    "model2.add(Conv2D(64, (3, 3), activation='relu'))\n",
    "model2.add(MaxPooling2D(pool_size=(2, 2)))\n",
    "model2.add(Conv2D(64, (3, 3), activation='relu'))\n",
    "model2.add(MaxPooling2D(pool_size=(2, 2)))\n",
    "model2.add(Flatten())\n",
    "model2.add(Dense(128, activation='relu'))\n",
    "model2.add(Dense(128, activation='relu'))\n",
    "model2.add(Dense(num_classes, activation='softmax'))\n",
    "\n",
    "model2.compile(loss=keras.losses.categorical_crossentropy,\n",
    "              optimizer=keras.optimizers.Adam(),\n",
    "              metrics=['accuracy'])"
   ]
  },
  {
   "cell_type": "code",
   "execution_count": 59,
   "metadata": {},
   "outputs": [
    {
     "name": "stdout",
     "output_type": "stream",
     "text": [
      "_________________________________________________________________\n",
      "Layer (type)                 Output Shape              Param #   \n",
      "=================================================================\n",
      "conv2d_31 (Conv2D)           (None, 26, 26, 64)        640       \n",
      "_________________________________________________________________\n",
      "max_pooling2d_31 (MaxPooling (None, 13, 13, 64)        0         \n",
      "_________________________________________________________________\n",
      "conv2d_32 (Conv2D)           (None, 11, 11, 64)        36928     \n",
      "_________________________________________________________________\n",
      "max_pooling2d_32 (MaxPooling (None, 5, 5, 64)          0         \n",
      "_________________________________________________________________\n",
      "conv2d_33 (Conv2D)           (None, 3, 3, 64)          36928     \n",
      "_________________________________________________________________\n",
      "max_pooling2d_33 (MaxPooling (None, 1, 1, 64)          0         \n",
      "_________________________________________________________________\n",
      "flatten_4 (Flatten)          (None, 64)                0         \n",
      "_________________________________________________________________\n",
      "dense_20 (Dense)             (None, 128)               8320      \n",
      "_________________________________________________________________\n",
      "dense_21 (Dense)             (None, 128)               16512     \n",
      "_________________________________________________________________\n",
      "dense_22 (Dense)             (None, 10)                1290      \n",
      "=================================================================\n",
      "Total params: 100,618\n",
      "Trainable params: 100,618\n",
      "Non-trainable params: 0\n",
      "_________________________________________________________________\n"
     ]
    }
   ],
   "source": [
    "model2.summary()"
   ]
  },
  {
   "cell_type": "code",
   "execution_count": 60,
   "metadata": {},
   "outputs": [
    {
     "name": "stdout",
     "output_type": "stream",
     "text": [
      "Epoch 1/30\n",
      "1875/1875 [==============================] - 18s - loss: 0.6190 - acc: 0.7689 - val_loss: 0.4873 - val_acc: 0.8158\n",
      "Epoch 2/30\n",
      "1875/1875 [==============================] - 18s - loss: 0.4238 - acc: 0.8446 - val_loss: 0.3842 - val_acc: 0.8579\n",
      "Epoch 3/30\n",
      "1875/1875 [==============================] - 18s - loss: 0.3717 - acc: 0.8629 - val_loss: 0.3720 - val_acc: 0.8635\n",
      "Epoch 4/30\n",
      "1875/1875 [==============================] - 18s - loss: 0.3401 - acc: 0.8727 - val_loss: 0.3407 - val_acc: 0.8781\n",
      "Epoch 5/30\n",
      "1875/1875 [==============================] - 18s - loss: 0.3240 - acc: 0.8796 - val_loss: 0.3408 - val_acc: 0.8735\n",
      "Epoch 6/30\n",
      "1875/1875 [==============================] - 18s - loss: 0.3101 - acc: 0.8851 - val_loss: 0.3239 - val_acc: 0.8818\n",
      "Epoch 7/30\n",
      "1875/1875 [==============================] - 18s - loss: 0.2936 - acc: 0.8898 - val_loss: 0.3177 - val_acc: 0.8828\n",
      "Epoch 8/30\n",
      "1875/1875 [==============================] - 18s - loss: 0.2819 - acc: 0.8948 - val_loss: 0.3129 - val_acc: 0.8845\n",
      "Epoch 9/30\n",
      "1875/1875 [==============================] - 18s - loss: 0.2768 - acc: 0.8964 - val_loss: 0.3082 - val_acc: 0.8912\n",
      "Epoch 10/30\n",
      "1875/1875 [==============================] - 18s - loss: 0.2691 - acc: 0.8994 - val_loss: 0.3073 - val_acc: 0.8884\n",
      "Epoch 11/30\n",
      "1875/1875 [==============================] - 18s - loss: 0.2619 - acc: 0.9016 - val_loss: 0.3122 - val_acc: 0.8893\n",
      "Epoch 12/30\n",
      "1875/1875 [==============================] - 18s - loss: 0.2558 - acc: 0.9041 - val_loss: 0.3090 - val_acc: 0.8896\n",
      "Epoch 13/30\n",
      "1875/1875 [==============================] - 18s - loss: 0.2492 - acc: 0.9051 - val_loss: 0.3036 - val_acc: 0.8927\n",
      "Epoch 14/30\n",
      "1875/1875 [==============================] - 18s - loss: 0.2444 - acc: 0.9089 - val_loss: 0.3009 - val_acc: 0.8934\n",
      "Epoch 15/30\n",
      "1875/1875 [==============================] - 18s - loss: 0.2367 - acc: 0.9100 - val_loss: 0.3129 - val_acc: 0.8894\n",
      "Epoch 16/30\n",
      "1875/1875 [==============================] - 19s - loss: 0.2329 - acc: 0.9126 - val_loss: 0.3017 - val_acc: 0.8950\n",
      "Epoch 17/30\n",
      "1875/1875 [==============================] - 19s - loss: 0.2293 - acc: 0.9143 - val_loss: 0.3004 - val_acc: 0.8965\n",
      "Epoch 18/30\n",
      "1875/1875 [==============================] - 19s - loss: 0.2247 - acc: 0.9153 - val_loss: 0.3016 - val_acc: 0.8957\n",
      "Epoch 19/30\n",
      "1875/1875 [==============================] - 18s - loss: 0.2228 - acc: 0.9168 - val_loss: 0.2923 - val_acc: 0.8995\n",
      "Epoch 20/30\n",
      "1875/1875 [==============================] - 18s - loss: 0.2187 - acc: 0.9186 - val_loss: 0.3105 - val_acc: 0.8921\n",
      "Epoch 21/30\n",
      "1875/1875 [==============================] - 18s - loss: 0.2154 - acc: 0.9196 - val_loss: 0.3028 - val_acc: 0.8958\n",
      "Epoch 22/30\n",
      "1875/1875 [==============================] - 18s - loss: 0.2125 - acc: 0.9205 - val_loss: 0.3390 - val_acc: 0.8849\n",
      "Epoch 23/30\n",
      "1875/1875 [==============================] - 19s - loss: 0.2094 - acc: 0.9206 - val_loss: 0.3075 - val_acc: 0.8945\n",
      "Epoch 24/30\n",
      "1875/1875 [==============================] - 19s - loss: 0.2079 - acc: 0.9208 - val_loss: 0.3073 - val_acc: 0.8967\n",
      "Epoch 25/30\n",
      "1875/1875 [==============================] - 18s - loss: 0.2060 - acc: 0.9223 - val_loss: 0.3055 - val_acc: 0.8971\n",
      "Epoch 26/30\n",
      "1875/1875 [==============================] - 18s - loss: 0.2032 - acc: 0.9228 - val_loss: 0.3140 - val_acc: 0.8968\n",
      "Epoch 27/30\n",
      "1875/1875 [==============================] - 18s - loss: 0.1998 - acc: 0.9242 - val_loss: 0.3053 - val_acc: 0.9010\n",
      "Epoch 28/30\n",
      "1875/1875 [==============================] - 18s - loss: 0.1998 - acc: 0.9235 - val_loss: 0.3120 - val_acc: 0.9013\n",
      "Epoch 29/30\n",
      "1875/1875 [==============================] - 18s - loss: 0.1972 - acc: 0.9249 - val_loss: 0.3331 - val_acc: 0.8990\n",
      "Epoch 30/30\n",
      "1875/1875 [==============================] - 18s - loss: 0.1945 - acc: 0.9256 - val_loss: 0.3183 - val_acc: 0.8999\n"
     ]
    },
    {
     "data": {
      "text/plain": [
       "<keras.callbacks.History at 0x7fdb9a4c5d30>"
      ]
     },
     "execution_count": 60,
     "metadata": {},
     "output_type": "execute_result"
    }
   ],
   "source": [
    "model2.fit_generator(datagen.flow(x_train, y_train, batch_size=32),\n",
    "          epochs=30,\n",
    "          steps_per_epoch=len(x_train) / 32,\n",
    "          validation_data=(x_test, y_test),\n",
    "          verbose=1)\n",
    "\n",
    "#model.fit(x_train, y_train, validation_data=(x_test, y_test), epochs=40)"
   ]
  },
  {
   "cell_type": "code",
   "execution_count": 61,
   "metadata": {},
   "outputs": [
    {
     "name": "stdout",
     "output_type": "stream",
     "text": [
      "0.9107\n"
     ]
    }
   ],
   "source": [
    "from sklearn.metrics import accuracy_score\n",
    "\n",
    "preds = (model.predict(x_test) + model2.predict(x_test)) / 2\n",
    "preds = np.argmax(preds, 1)\n",
    "\n",
    "_, y_categories = load_mnist('./fashion-mnist/data/fashion', kind='t10k')\n",
    "\n",
    "print(accuracy_score(y_categories, preds))\n",
    "\n",
    "with open('final_ensembled_submission.csv', 'w') as f:\n",
    "    f.write('Id,Class\\n')\n",
    "    for i, c in enumerate(preds):\n",
    "        f.write('{},{}\\n'.format(i, c))"
   ]
  },
  {
   "cell_type": "code",
   "execution_count": 62,
   "metadata": {},
   "outputs": [
    {
     "name": "stdout",
     "output_type": "stream",
     "text": [
      "Id,Class\r\n",
      "0,9\r\n",
      "1,2\r\n",
      "2,1\r\n",
      "3,1\r\n",
      "4,6\r\n",
      "5,1\r\n",
      "6,4\r\n",
      "7,6\r\n",
      "8,5\r\n"
     ]
    }
   ],
   "source": [
    "!head submission.csv"
   ]
  },
  {
   "cell_type": "markdown",
   "metadata": {},
   "source": [
    "## Summary\n",
    "Simple ensembling (averaging) of two CNNS. \n",
    "One has additional dense layers, the second one Global Average Pooling.\n",
    "Simple rotations are used for data augmentation."
   ]
  }
 ],
 "metadata": {
  "kernelspec": {
   "display_name": "Neptune",
   "language": "",
   "name": "neptune-kernel"
  },
  "language_info": {
   "codemirror_mode": {
    "name": "ipython",
    "version": 3
   },
   "file_extension": ".py",
   "mimetype": "text/x-python",
   "name": "python",
   "nbconvert_exporter": "python",
   "pygments_lexer": "ipython3",
   "version": "3.5.2"
  }
 },
 "nbformat": 4,
 "nbformat_minor": 2
}
